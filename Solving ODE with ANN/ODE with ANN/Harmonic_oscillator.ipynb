{
  "cells": [
    {
      "cell_type": "code",
      "execution_count": null,
      "id": "510fc31a",
      "metadata": {
        "id": "510fc31a"
      },
      "outputs": [],
      "source": [
        "import autograd.numpy as np\n",
        "from autograd import grad, elementwise_grad\n",
        "import autograd.numpy.random as npr\n",
        "import matplotlib.pyplot as plt"
      ]
    },
    {
      "cell_type": "code",
      "execution_count": null,
      "id": "fb1c07c6",
      "metadata": {
        "id": "fb1c07c6"
      },
      "outputs": [],
      "source": [
        "def sigmoid(z):\n",
        "    return 1/(1 + np.exp(-z))"
      ]
    },
    {
      "cell_type": "code",
      "execution_count": null,
      "id": "473a86ae",
      "metadata": {
        "id": "473a86ae"
      },
      "outputs": [],
      "source": [
        "def sigmoid(z):\n",
        "    return 1 / (1 + np.exp(-z))\n",
        "\n",
        "def tanh(z):\n",
        "    return np.tanh(z)\n",
        "\n",
        "def relu(z):\n",
        "    return np.maximum(0, z)"
      ]
    },
    {
      "cell_type": "code",
      "execution_count": null,
      "id": "24b4fbcb",
      "metadata": {
        "id": "24b4fbcb"
      },
      "outputs": [],
      "source": [
        "# Assuming one input, hidden, and output layer\n",
        "def neural_network(params, x):\n",
        "\n",
        "    # Find the weights (including and biases) for the hidden and output layer.\n",
        "    # Assume that params is a list of parameters for each layer.\n",
        "    # The biases are the first element for each array in params,\n",
        "    # and the weights are the remaning elements in each array in params.\n",
        "\n",
        "    w_hidden = params[0]\n",
        "    w_output = params[1]\n",
        "\n",
        "    # Assumes input x being an one-dimensional array\n",
        "    num_values = np.size(x)\n",
        "    x = x.reshape(-1, num_values)\n",
        "\n",
        "    # Assume that the input layer does nothing to the input x\n",
        "    x_input = x\n",
        "\n",
        "    ## Hidden layer:\n",
        "\n",
        "    # Add a row of ones to include bias\n",
        "    x_input = np.concatenate((np.ones((1,num_values)), x_input ), axis = 0)\n",
        "\n",
        "    z_hidden = np.matmul(w_hidden, x_input)\n",
        "    x_hidden = sigmoid(z_hidden)\n",
        "\n",
        "    ## Output layer:\n",
        "\n",
        "    # Include bias:\n",
        "    x_hidden = np.concatenate((np.ones((1,num_values)), x_hidden ), axis = 0)\n",
        "\n",
        "    z_output = np.matmul(w_output, x_hidden)\n",
        "    x_output = z_output\n",
        "\n",
        "    return x_output"
      ]
    },
    {
      "cell_type": "code",
      "execution_count": null,
      "id": "ba56fb15",
      "metadata": {
        "id": "ba56fb15"
      },
      "outputs": [],
      "source": [
        "# The trial solution using the deep neural network:\n",
        "def g_trial(x,params, g0 = 0.1):\n",
        "    return g0 + (x**2)*neural_network(params,x)"
      ]
    },
    {
      "cell_type": "code",
      "execution_count": null,
      "id": "baa3f67c",
      "metadata": {
        "id": "baa3f67c"
      },
      "outputs": [],
      "source": [
        "# The right side of the ODE:\n",
        "def g(x, g_trial, dg_trial):\n",
        "    return -0.5*dg_trial - 25*g_trial - 25*g_trial**3"
      ]
    },
    {
      "cell_type": "code",
      "execution_count": null,
      "id": "c807c71d",
      "metadata": {
        "id": "c807c71d"
      },
      "outputs": [],
      "source": [
        "# The cost function:\n",
        "def cost_function(P, x):\n",
        "\n",
        "    # Evaluate the trial function with the current parameters P\n",
        "    g_t = g_trial(x,P)\n",
        "\n",
        "    # Find the derivative w.r.t x of the neural network\n",
        "    #d_net_out = elementwise_grad(neural_network,1)(P,x)\n",
        "\n",
        "    # Find the derivative w.r.t x of the trial function\n",
        "    d_g_t = elementwise_grad(g_trial,0)(x,P)\n",
        "    dd_g_t = elementwise_grad(elementwise_grad(g_trial,0))(x,P)\n",
        "\n",
        "    # The right side of the ODE\n",
        "    func = g(x, g_t, d_g_t)\n",
        "\n",
        "    err_sqr = (dd_g_t - func)**2\n",
        "    cost_sum = np.sum(err_sqr)\n",
        "\n",
        "    return cost_sum / np.size(err_sqr)"
      ]
    },
    {
      "cell_type": "code",
      "execution_count": null,
      "id": "3eac75b0",
      "metadata": {
        "id": "3eac75b0"
      },
      "outputs": [],
      "source": [
        "# Solve the exponential decay ODE using neural network with one input, hidden, and output layer\n",
        "def solve_ode_neural_network(x, num_neurons_hidden, num_iter, lmb):\n",
        "    ## Set up initial weights and biases\n",
        "\n",
        "    # For the hidden layer\n",
        "    p0 = npr.randn(num_neurons_hidden, 2 )\n",
        "\n",
        "    # For the output layer\n",
        "    p1 = npr.randn(1, num_neurons_hidden + 1 ) # +1 since bias is included\n",
        "\n",
        "    P = [p0, p1]\n",
        "\n",
        "    print('Initial cost: %g'%cost_function(P, x))\n",
        "\n",
        "    ## Start finding the optimal weights using gradient descent\n",
        "\n",
        "    # Find the Python function that represents the gradient of the cost function\n",
        "    # w.r.t the 0-th input argument -- that is the weights and biases in the hidden and output layer\n",
        "    cost_function_grad = grad(cost_function,0)\n",
        "\n",
        "    # Let the update be done num_iter times\n",
        "    for i in range(num_iter):\n",
        "        # Evaluate the gradient at the current weights and biases in P.\n",
        "        # The cost_grad consist now of two arrays;\n",
        "        # one for the gradient w.r.t P_hidden and\n",
        "        # one for the gradient w.r.t P_output\n",
        "        cost_grad =  cost_function_grad(P, x)\n",
        "\n",
        "        P[0] = P[0] - lmb * cost_grad[0]\n",
        "        P[1] = P[1] - lmb * cost_grad[1]\n",
        "        if i % 100 == 0:\n",
        "            print('Final cost: %g'%cost_function(P, x))\n",
        "\n",
        "    return P"
      ]
    },
    {
      "cell_type": "code",
      "execution_count": null,
      "id": "81551927",
      "metadata": {
        "id": "81551927"
      },
      "outputs": [],
      "source": [
        "def g_analytic(x, gamma = 2, g0 = 10):\n",
        "    return g0*np.exp(-gamma*x)"
      ]
    },
    {
      "cell_type": "code",
      "execution_count": null,
      "id": "4420c041",
      "metadata": {
        "colab": {
          "base_uri": "https://localhost:8080/"
        },
        "id": "4420c041",
        "outputId": "e24f19c5-9465-436a-ec95-b95ab7659b18"
      },
      "outputs": [
        {
          "output_type": "stream",
          "name": "stdout",
          "text": [
            "Initial cost: 3.75405\n",
            "Final cost: 2.53617\n",
            "Final cost: 0.634386\n",
            "Final cost: 0.58959\n",
            "Final cost: 0.55059\n",
            "Final cost: 0.516592\n",
            "Final cost: 0.486915\n",
            "Final cost: 0.460981\n",
            "Final cost: 0.438293\n",
            "Final cost: 0.418423\n",
            "Final cost: 0.401005\n",
            "Final cost: 0.385721\n",
            "Final cost: 0.372296\n",
            "Final cost: 0.360495\n",
            "Final cost: 0.35011\n",
            "Final cost: 0.340965\n",
            "Final cost: 0.332902\n",
            "Final cost: 0.325788\n",
            "Final cost: 0.319504\n",
            "Final cost: 0.313949\n",
            "Final cost: 0.309032\n",
            "Final cost: 0.304674\n",
            "Final cost: 0.300809\n",
            "Final cost: 0.297375\n",
            "Final cost: 0.294321\n",
            "Final cost: 0.2916\n",
            "Final cost: 0.289172\n",
            "Final cost: 0.287001\n",
            "Final cost: 0.285058\n",
            "Final cost: 0.283314\n",
            "Final cost: 0.281746\n",
            "Final cost: 0.280333\n",
            "Final cost: 0.279056\n",
            "Final cost: 0.277899\n",
            "Final cost: 0.276848\n",
            "Final cost: 0.27589\n",
            "Final cost: 0.275014\n",
            "Final cost: 0.27421\n",
            "Final cost: 0.273471\n",
            "Final cost: 0.272787\n",
            "Final cost: 0.272154\n",
            "Final cost: 0.271564\n",
            "Final cost: 0.271013\n",
            "Final cost: 0.270496\n",
            "Final cost: 0.270009\n",
            "Final cost: 0.269549\n",
            "Final cost: 0.269112\n",
            "Final cost: 0.268696\n",
            "Final cost: 0.268299\n",
            "Final cost: 0.267917\n",
            "Final cost: 0.26755\n",
            "Final cost: 0.267195\n",
            "Final cost: 0.266852\n",
            "Final cost: 0.266518\n",
            "Final cost: 0.266193\n",
            "Final cost: 0.265876\n",
            "Final cost: 0.265566\n",
            "Final cost: 0.265261\n",
            "Final cost: 0.264962\n",
            "Final cost: 0.264668\n",
            "Final cost: 0.264378\n",
            "Final cost: 0.264092\n",
            "Final cost: 0.263809\n",
            "Final cost: 0.263529\n",
            "Final cost: 0.263252\n",
            "Final cost: 0.262976\n",
            "Final cost: 0.262703\n",
            "Final cost: 0.262432\n",
            "Final cost: 0.262162\n",
            "Final cost: 0.261894\n",
            "Final cost: 0.261627\n",
            "Final cost: 0.261362\n",
            "Final cost: 0.261097\n",
            "Final cost: 0.260833\n",
            "Final cost: 0.260571\n",
            "Final cost: 0.260308\n",
            "Final cost: 0.260047\n",
            "Final cost: 0.259786\n",
            "Final cost: 0.259526\n",
            "Final cost: 0.259266\n",
            "Final cost: 0.259007\n",
            "Final cost: 0.258748\n",
            "Final cost: 0.25849\n",
            "Final cost: 0.258232\n",
            "Final cost: 0.257974\n",
            "Final cost: 0.257716\n",
            "Final cost: 0.257459\n",
            "Final cost: 0.257202\n",
            "Final cost: 0.256946\n",
            "Final cost: 0.256689\n",
            "Final cost: 0.256433\n",
            "Final cost: 0.256177\n",
            "Final cost: 0.255922\n",
            "Final cost: 0.255666\n",
            "Final cost: 0.255411\n",
            "Final cost: 0.255156\n",
            "Final cost: 0.254901\n",
            "Final cost: 0.254646\n",
            "Final cost: 0.254391\n",
            "Final cost: 0.254137\n",
            "Final cost: 0.253882\n",
            "Max absolute difference: 9.9\n"
          ]
        }
      ],
      "source": [
        "# Solve the given problem\n",
        "if __name__ == '__main__':\n",
        "    # Set seed such that the weight are initialized\n",
        "    # with same weights and biases for every run.\n",
        "    npr.seed(15)\n",
        "\n",
        "    ## Decide the vales of arguments to the function to solve\n",
        "    N = 20\n",
        "    x = np.linspace(0, 1, N)\n",
        "\n",
        "    ## Set up the initial parameters\n",
        "    num_hidden_neurons = 10\n",
        "    num_iter = 10000\n",
        "    lmb = 0.0001\n",
        "\n",
        "    # Use the network\n",
        "    P = solve_ode_neural_network(x, num_hidden_neurons, num_iter, lmb)\n",
        "\n",
        "    # Print the deviation from the trial solution and true solution\n",
        "    res = g_trial(x,P)\n",
        "    res_analytical = g_analytic(x)\n",
        "\n",
        "    print('Max absolute difference: %g'%np.max(np.abs(res - res_analytical)))"
      ]
    },
    {
      "cell_type": "code",
      "execution_count": null,
      "id": "4cef3e82",
      "metadata": {
        "colab": {
          "base_uri": "https://localhost:8080/"
        },
        "id": "4cef3e82",
        "outputId": "09127564-9f0c-4c73-c2de-13eac51bcf8c"
      },
      "outputs": [
        {
          "output_type": "display_data",
          "data": {
            "text/plain": [
              "<Figure size 640x480 with 1 Axes>"
            ],
            "image/png": "[encoded data removed]"
          },
          "metadata": {}
        }
      ],
      "source": [
        "# Plot the results\n",
        "\n",
        "plt.title('Performance of neural network solving an ODE compared to the analytical solution')\n",
        "#plt.plot(x, res_analytical)\n",
        "plt.plot(x, res[0,:])\n",
        "#plt.legend(['analytical','nn'])\n",
        "plt.xlabel('x')\n",
        "plt.ylabel('g(x)')\n",
        "plt.show()"
      ]
    },
    {
      "cell_type": "code",
      "execution_count": null,
      "id": "037acca4",
      "metadata": {
        "id": "037acca4"
      },
      "outputs": [],
      "source": []
    }
  ],
  "metadata": {
    "kernelspec": {
      "display_name": "Python 3 (ipykernel)",
      "language": "python",
      "name": "python3"
    },
    "language_info": {
      "codemirror_mode": {
        "name": "ipython",
        "version": 3
      },
      "file_extension": ".py",
      "mimetype": "text/x-python",
      "name": "python",
      "nbconvert_exporter": "python",
      "pygments_lexer": "ipython3",
      "version": "3.9.12"
    },
    "colab": {
      "provenance": []
    }
  },
  "nbformat": 4,
  "nbformat_minor": 5
}