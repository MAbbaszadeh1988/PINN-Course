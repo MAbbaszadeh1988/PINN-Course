{
  "nbformat": 4,
  "nbformat_minor": 0,
  "metadata": {
    "colab": {
      "provenance": [],
      "gpuType": "T4"
    },
    "kernelspec": {
      "name": "python3",
      "display_name": "Python 3"
    },
    "language_info": {
      "name": "python"
    },
    "accelerator": "GPU"
  },
  "cells": [
    {
      "cell_type": "code",
      "execution_count": null,
      "metadata": {
        "colab": {
          "base_uri": "https://localhost:8080/"
        },
        "id": "c_eN4HBpN8Da",
        "outputId": "2b193c09-89ec-4ca7-9a6b-536bd68b8745"
      },
      "outputs": [
        {
          "output_type": "stream",
          "name": "stdout",
          "text": [
            "Using device: cuda\n"
          ]
        },
        {
          "output_type": "stream",
          "name": "stderr",
          "text": [
            "/usr/local/lib/python3.11/dist-packages/torch/autograd/graph.py:825: UserWarning: Attempting to run cuBLAS, but there was no current CUDA context! Attempting to set the primary context... (Triggered internally at ../aten/src/ATen/cuda/CublasHandlePool.cpp:135.)\n",
            "  return Variable._execution_engine.run_backward(  # Calls into the C++ engine to run the backward pass\n"
          ]
        },
        {
          "output_type": "stream",
          "name": "stdout",
          "text": [
            "Epoch 0, Loss: 0.5006508231163025, Estimated k: 3.000999927520752, Estimated r: 0.9990000128746033\n",
            "Epoch 500, Loss: 0.03906407952308655, Estimated k: 3.5101685523986816, Estimated r: 1.47319495677948\n",
            "Epoch 1000, Loss: 0.020331183448433876, Estimated k: 3.9408581256866455, Estimated r: 1.8810267448425293\n",
            "Epoch 1500, Loss: 0.011383498087525368, Estimated k: 4.246581554412842, Estimated r: 2.1904406547546387\n",
            "Epoch 2000, Loss: 0.007809135131537914, Estimated k: 4.431139945983887, Estimated r: 2.4164605140686035\n",
            "Epoch 2500, Loss: 0.006124875042587519, Estimated k: 4.493834495544434, Estimated r: 2.572045087814331\n",
            "Epoch 3000, Loss: 0.005604942329227924, Estimated k: 4.452014446258545, Estimated r: 2.6763370037078857\n",
            "Epoch 3500, Loss: 0.005364900920540094, Estimated k: 4.322193145751953, Estimated r: 2.745676040649414\n",
            "Epoch 4000, Loss: 0.005376214161515236, Estimated k: 4.118803977966309, Estimated r: 2.7948813438415527\n",
            "Epoch 4500, Loss: 0.005043677054345608, Estimated k: 3.860624313354492, Estimated r: 2.83467173576355\n",
            "Epoch 5000, Loss: 0.005072178319096565, Estimated k: 3.560342788696289, Estimated r: 2.8785037994384766\n",
            "Epoch 5500, Loss: 0.004568086937069893, Estimated k: 3.2362520694732666, Estimated r: 2.9319801330566406\n",
            "Epoch 6000, Loss: 0.004329924006015062, Estimated k: 2.8828084468841553, Estimated r: 3.0026402473449707\n",
            "Epoch 6500, Loss: 0.0037650964222848415, Estimated k: 2.529024124145508, Estimated r: 3.101428747177124\n",
            "Epoch 7000, Loss: 0.004974969197064638, Estimated k: 2.1772475242614746, Estimated r: 3.238560914993286\n",
            "Epoch 7500, Loss: 0.00256168469786644, Estimated k: 1.8798974752426147, Estimated r: 3.4180657863616943\n",
            "Epoch 8000, Loss: 0.0019790714140981436, Estimated k: 1.6593775749206543, Estimated r: 3.6269702911376953\n",
            "Epoch 8500, Loss: 0.0015347156440839171, Estimated k: 1.5172200202941895, Estimated r: 3.834879159927368\n",
            "Epoch 9000, Loss: 0.0012251428561285138, Estimated k: 1.4203870296478271, Estimated r: 4.023758411407471\n",
            "Epoch 9500, Loss: 0.0010205480502918363, Estimated k: 1.3559314012527466, Estimated r: 4.189518928527832\n",
            "Estimated k: 1.3104485273361206\n",
            "Estimated r: 4.326488018035889\n"
          ]
        }
      ],
      "source": [
        "import torch\n",
        "import torch.nn as nn\n",
        "import torch.optim as optim\n",
        "import numpy as np\n",
        "import matplotlib.pyplot as plt\n",
        "\n",
        "# Check for GPU\n",
        "device = torch.device(\"cuda\" if torch.cuda.is_available() else \"cpu\")\n",
        "print(f\"Using device: {device}\")\n",
        "\n",
        "# Define the PINN model\n",
        "class PINN(nn.Module):\n",
        "    def __init__(self, num_hidden_layers=3, neurons_per_layer=30):\n",
        "        super(PINN, self).__init__()\n",
        "        self.hidden_layers = nn.ModuleList()\n",
        "        self.activation = torch.tanh\n",
        "\n",
        "        # Create hidden layers dynamically\n",
        "        for _ in range(num_hidden_layers):\n",
        "            self.hidden_layers.append(nn.Linear(neurons_per_layer, neurons_per_layer))\n",
        "\n",
        "        self.input_layer = nn.Linear(1, neurons_per_layer)\n",
        "        self.output_layer = nn.Linear(neurons_per_layer, 1)\n",
        "\n",
        "        # Trainable parameters\n",
        "        self.k = nn.Parameter(torch.tensor(3.0, dtype=torch.float32, device=device))\n",
        "        self.r = nn.Parameter(torch.tensor(1.0, dtype=torch.float32, device=device))\n",
        "\n",
        "    def forward(self, x):\n",
        "        x = self.activation(self.input_layer(x))\n",
        "        for layer in self.hidden_layers:\n",
        "            x = self.activation(layer(x))\n",
        "        return self.output_layer(x)\n",
        "\n",
        "# Compute the residual of the ODE\n",
        "def ode_residual(model, t):\n",
        "    t.requires_grad_(True)\n",
        "    P = model(t)\n",
        "    P_t = torch.autograd.grad(P, t, grad_outputs=torch.ones_like(P), create_graph=True)[0]\n",
        "    residual = P_t - model.r * P * (1 - P / model.k)\n",
        "    return residual\n",
        "\n",
        "# Define the loss function\n",
        "def pinn_loss(model, t_interior, P_data, t_init, P_init):\n",
        "    residual_loss = torch.mean(ode_residual(model, t_interior) ** 2)\n",
        "    P_pred = model(t_interior)\n",
        "    data_loss = torch.mean((P_pred - P_data) ** 2)\n",
        "    P_pred_init = model(t_init)\n",
        "    init_loss = torch.mean((P_pred_init - P_init) ** 2)\n",
        "    return residual_loss + data_loss + init_loss\n",
        "\n",
        "# Training step\n",
        "def train_step(model, t_interior, P_data, t_init, P_init, optimizer):\n",
        "    optimizer.zero_grad()\n",
        "    loss = pinn_loss(model, t_interior, P_data, t_init, P_init)\n",
        "    loss.backward()\n",
        "    optimizer.step()\n",
        "    return loss.item()\n",
        "\n",
        "# Data\n",
        "P_data = np.array([379, 423, 472, 523, 610, 738, 995, 1231, 1457, 1783, 2239, 2805, 3366, 3852, 4250, 4317, 4691, 5149, 5689, 5737, 6016])\n",
        "t_data = np.linspace(0, 20, 21)\n",
        "P_data = P_data / max(P_data)\n",
        "t_data = t_data / max(t_data)\n",
        "P0 = P_data[0]\n",
        "\n",
        "# Convert to tensors and move to GPU\n",
        "t_data = torch.tensor(t_data, dtype=torch.float32, device=device).view(-1, 1)\n",
        "P_data = torch.tensor(P_data, dtype=torch.float32, device=device).view(-1, 1)\n",
        "t_init = t_data[0].view(-1, 1)\n",
        "P_init = torch.tensor([[P0]], dtype=torch.float32, device=device)\n",
        "\n",
        "# Initialize model and optimizer\n",
        "model = PINN(num_hidden_layers=3, neurons_per_layer=30).to(device)\n",
        "optimizer = optim.Adam(model.parameters(), lr=1e-3)\n",
        "\n",
        "# Training loop\n",
        "epochs = 10000\n",
        "for epoch in range(epochs):\n",
        "    loss = train_step(model, t_data, P_data, t_init, P_init, optimizer)\n",
        "    if epoch % 500 == 0:\n",
        "        print(f'Epoch {epoch}, Loss: {loss}, Estimated k: {model.k.item()}, Estimated r: {model.r.item()}')\n",
        "\n",
        "# Final parameter estimation\n",
        "print(f\"Estimated k: {model.k.item()}\")\n",
        "print(f\"Estimated r: {model.r.item()}\")"
      ]
    },
    {
      "cell_type": "code",
      "source": [
        "\n",
        "# Predictions\n",
        "P_pred = model(t_data).detach().cpu().numpy()\n",
        "t_data_np = t_data.detach().cpu().numpy()\n",
        "P_data_np = P_data.detach().cpu().numpy()\n",
        "P_pred_np = (P0 * model.k.item()) / (P0 + (model.k.item() - P0) * np.exp(-model.r.item() * t_data_np))\n",
        "\n",
        "# Plot results\n",
        "plt.figure(figsize=(4, 4))\n",
        "plt.plot(t_data_np, P_data_np, color='blue', label='Observed data')\n",
        "plt.plot(t_data_np, P_pred_np, color='red', label='PINN')\n",
        "plt.xlabel('t')\n",
        "plt.ylabel('P')\n",
        "plt.legend()\n",
        "plt.savefig(\"plot.pdf\", format=\"pdf\", bbox_inches=\"tight\")\n",
        "plt.show()"
      ],
      "metadata": {
        "colab": {
          "base_uri": "https://localhost:8080/",
          "height": 388
        },
        "id": "0J7B1IFIO9O3",
        "outputId": "27f4e3d1-cbb0-488d-f96b-79005bd108b8"
      },
      "execution_count": null,
      "outputs": [
        {
          "output_type": "display_data",
          "data": {
            "text/plain": [
              "<Figure size 400x400 with 1 Axes>"
            ],
            "image/png": "[encoded data removed]"
          },
          "metadata": {}
        }
      ]
    },
    {
      "cell_type": "code",
      "source": [
        "from numpy import linalg\n",
        "linalg.norm(P_data_np - P_pred_np)"
      ],
      "metadata": {
        "colab": {
          "base_uri": "https://localhost:8080/"
        },
        "id": "XHUr4-lZQygG",
        "outputId": "f62b98cc-c9e8-47de-8ce2-d997967a635a"
      },
      "execution_count": null,
      "outputs": [
        {
          "output_type": "execute_result",
          "data": {
            "text/plain": [
              "0.14772174"
            ]
          },
          "metadata": {},
          "execution_count": 4
        }
      ]
    }
  ]
}